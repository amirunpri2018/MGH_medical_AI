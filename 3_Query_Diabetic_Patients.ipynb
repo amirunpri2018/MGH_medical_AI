{
 "cells": [
  {
   "cell_type": "markdown",
   "metadata": {},
   "source": [
    "# After  #2 demo, now try to pull diabetic patients record"
   ]
  },
  {
   "cell_type": "markdown",
   "metadata": {},
   "source": [
    "Advice: As we move into more complex SQL queries, for efficiency purpose, I recommend to practise SQL code in pgAdmin first before load into Jupyter"
   ]
  },
  {
   "cell_type": "markdown",
   "metadata": {},
   "source": [
    "## Reference"
   ]
  },
  {
   "cell_type": "markdown",
   "metadata": {},
   "source": [
    "* Article: \"Improving Patient Cohort Identification Using Natural Language Processing\" 10 Sep. 2016, https://link.springer.com/chapter/10.1007/978-3-319-43742-2_28. Accessed 25 Nov. 2018.\n",
    "* Git repository: https://github.com/MIT-LCP/critical-data-book\n",
    "* To understand Mimic III tables: https://mimic.physionet.org/mimictables/\n",
    "* To understand ICD_9 codes: http://www.icd9data.com/\n",
    "* SQL query: https://github.com/MIT-LCP/critical-data-book/tree/master/part_iii/chapter_28"
   ]
  },
  {
   "cell_type": "markdown",
   "metadata": {},
   "source": [
    "## Prepare database"
   ]
  },
  {
   "cell_type": "markdown",
   "metadata": {},
   "source": [
    "Import libraries"
   ]
  },
  {
   "cell_type": "code",
   "execution_count": 1,
   "metadata": {},
   "outputs": [],
   "source": [
    "import pandas as pd\n",
    "import numpy as np\n",
    "import matplotlib.pyplot as plt\n",
    "import psycopg2\n",
    "import getpass\n",
    "%matplotlib inline\n",
    "plt.style.use('ggplot')"
   ]
  },
  {
   "cell_type": "markdown",
   "metadata": {},
   "source": [
    "Create database connection, you can load your password here just for practise but not recommend to save into repository"
   ]
  },
  {
   "cell_type": "code",
   "execution_count": 2,
   "metadata": {},
   "outputs": [],
   "source": [
    "user = 'postgres'\n",
    "password = 'postgres'      # note if you want to set password for offline pracise would be fine, but don't post to repository\n",
    "host = 'localhost'\n",
    "dbname = 'mimic'\n",
    "schema = 'mimiciii'        # set to your defined schema name, I use mimiciii here"
   ]
  },
  {
   "cell_type": "markdown",
   "metadata": {},
   "source": [
    "Connect to the database (execute again if lost connection)"
   ]
  },
  {
   "cell_type": "code",
   "execution_count": 3,
   "metadata": {},
   "outputs": [
    {
     "name": "stdout",
     "output_type": "stream",
     "text": [
      "Thread opened\n"
     ]
    }
   ],
   "source": [
    "con = psycopg2.connect(dbname=dbname, user=user, host=host, password=password)\n",
    "cur = con.cursor()\n",
    "cur.execute('SET search_path to {}'.format(schema))          # this is compulsory step to find your database\n",
    "print('Thread opened' if not cur.closed else 'Thread closed')"
   ]
  },
  {
   "cell_type": "code",
   "execution_count": 10,
   "metadata": {},
   "outputs": [
    {
     "name": "stdout",
     "output_type": "stream",
     "text": [
      "Password:········\n",
      "connected\n"
     ]
    }
   ],
   "source": [
    "# If need password sensitive, use below code\n",
    "# con = psycopg2.connect(dbname=dbname, user=user, host=host, \n",
    "#                        password=getpass.getpass(prompt='Password:'.format(user)))\n",
    "# cur = con.cursor()\n",
    "# cur.execute('SET search_path to {}'.format(schema))          # this is compulsory step to find your database\n",
    "# print('connected' if not cur.connection.closed else 'not connected')"
   ]
  },
  {
   "cell_type": "markdown",
   "metadata": {},
   "source": [
    "## Query using Structured data"
   ]
  },
  {
   "cell_type": "markdown",
   "metadata": {},
   "source": [
    "Structured data means all records are categorized in the table so we can just classify them<br>\n",
    "Unstructured data means records are in the text note area and need text mining to capture them"
   ]
  },
  {
   "cell_type": "markdown",
   "metadata": {},
   "source": [
    "### First, validate whether the table we understand matches what article describes: "
   ]
  },
  {
   "cell_type": "markdown",
   "metadata": {},
   "source": [
    "* The unstructured clinical notes include:\n",
    "    - discharge summaries\n",
    "    - nursing progress notes\n",
    "    - physician notes\n",
    "    - electrocardiogram (ECG) reports\n",
    "    - echocardiogram reports\n",
    "    - and radiology reports\n",
    "* We excluded clinical notes that were related to any imaging results (ECG_Report, Echo_Report, and Radiology_Report). \n",
    "* We extracted notes from MIMIC-III with the following data elements: \n",
    "    - patient identification number (SUBJECT_ID), \n",
    "    - hospital admission identification number (HADM_IDs), \n",
    "    - intensive care unit stay identification number (ICUSTAY_ID), \n",
    "    - note type, \n",
    "    - note date/time, \n",
    "    - and note text."
   ]
  },
  {
   "cell_type": "markdown",
   "metadata": {},
   "source": [
    "### It's our first time query Mimic III db, will practise a few queries to validate the procedure is working well."
   ]
  },
  {
   "cell_type": "markdown",
   "metadata": {},
   "source": [
    "The tables that are used in the queries:\n",
    "* admissions: include subject_id, all patients\n",
    "* diagnoses_icd: include icd9_code, subject_id, patients under diagnosis (covered all patients)\n",
    "* patients: include subject_id, dob (covered all patients)\n",
    "* PROCEDURES_ICD: include subject_id, those who were under procedures (subset of all patients)"
   ]
  },
  {
   "cell_type": "code",
   "execution_count": 4,
   "metadata": {},
   "outputs": [
    {
     "data": {
      "text/html": [
       "<div>\n",
       "<style scoped>\n",
       "    .dataframe tbody tr th:only-of-type {\n",
       "        vertical-align: middle;\n",
       "    }\n",
       "\n",
       "    .dataframe tbody tr th {\n",
       "        vertical-align: top;\n",
       "    }\n",
       "\n",
       "    .dataframe thead th {\n",
       "        text-align: right;\n",
       "    }\n",
       "</style>\n",
       "<table border=\"1\" class=\"dataframe\">\n",
       "  <thead>\n",
       "    <tr style=\"text-align: right;\">\n",
       "      <th></th>\n",
       "      <th>category</th>\n",
       "    </tr>\n",
       "  </thead>\n",
       "  <tbody>\n",
       "    <tr>\n",
       "      <th>0</th>\n",
       "      <td>Consult</td>\n",
       "    </tr>\n",
       "    <tr>\n",
       "      <th>1</th>\n",
       "      <td>Social Work</td>\n",
       "    </tr>\n",
       "    <tr>\n",
       "      <th>2</th>\n",
       "      <td>ECG</td>\n",
       "    </tr>\n",
       "    <tr>\n",
       "      <th>3</th>\n",
       "      <td>Case Management</td>\n",
       "    </tr>\n",
       "    <tr>\n",
       "      <th>4</th>\n",
       "      <td>Nutrition</td>\n",
       "    </tr>\n",
       "    <tr>\n",
       "      <th>5</th>\n",
       "      <td>Radiology</td>\n",
       "    </tr>\n",
       "    <tr>\n",
       "      <th>6</th>\n",
       "      <td>Discharge summary</td>\n",
       "    </tr>\n",
       "    <tr>\n",
       "      <th>7</th>\n",
       "      <td>Pharmacy</td>\n",
       "    </tr>\n",
       "    <tr>\n",
       "      <th>8</th>\n",
       "      <td>Respiratory</td>\n",
       "    </tr>\n",
       "    <tr>\n",
       "      <th>9</th>\n",
       "      <td>Nursing/other</td>\n",
       "    </tr>\n",
       "    <tr>\n",
       "      <th>10</th>\n",
       "      <td>Nursing</td>\n",
       "    </tr>\n",
       "    <tr>\n",
       "      <th>11</th>\n",
       "      <td>Echo</td>\n",
       "    </tr>\n",
       "    <tr>\n",
       "      <th>12</th>\n",
       "      <td>Rehab Services</td>\n",
       "    </tr>\n",
       "    <tr>\n",
       "      <th>13</th>\n",
       "      <td>Physician</td>\n",
       "    </tr>\n",
       "    <tr>\n",
       "      <th>14</th>\n",
       "      <td>General</td>\n",
       "    </tr>\n",
       "  </tbody>\n",
       "</table>\n",
       "</div>"
      ],
      "text/plain": [
       "             category\n",
       "0             Consult\n",
       "1         Social Work\n",
       "2                 ECG\n",
       "3    Case Management \n",
       "4           Nutrition\n",
       "5           Radiology\n",
       "6   Discharge summary\n",
       "7            Pharmacy\n",
       "8        Respiratory \n",
       "9       Nursing/other\n",
       "10            Nursing\n",
       "11               Echo\n",
       "12     Rehab Services\n",
       "13         Physician \n",
       "14            General"
      ]
     },
     "execution_count": 4,
     "metadata": {},
     "output_type": "execute_result"
    }
   ],
   "source": [
    "# Find list of categories under noteevents table\n",
    "query = \\\n",
    "\"\"\"\n",
    "select distinct(category)\n",
    "from noteevents;\n",
    "\"\"\"\n",
    "data = pd.read_sql_query(query, con)\n",
    "data"
   ]
  },
  {
   "cell_type": "code",
   "execution_count": 12,
   "metadata": {},
   "outputs": [
    {
     "data": {
      "text/html": [
       "<div>\n",
       "<style scoped>\n",
       "    .dataframe tbody tr th:only-of-type {\n",
       "        vertical-align: middle;\n",
       "    }\n",
       "\n",
       "    .dataframe tbody tr th {\n",
       "        vertical-align: top;\n",
       "    }\n",
       "\n",
       "    .dataframe thead th {\n",
       "        text-align: right;\n",
       "    }\n",
       "</style>\n",
       "<table border=\"1\" class=\"dataframe\">\n",
       "  <thead>\n",
       "    <tr style=\"text-align: right;\">\n",
       "      <th></th>\n",
       "      <th>count</th>\n",
       "    </tr>\n",
       "  </thead>\n",
       "  <tbody>\n",
       "    <tr>\n",
       "      <th>0</th>\n",
       "      <td>41127</td>\n",
       "    </tr>\n",
       "  </tbody>\n",
       "</table>\n",
       "</div>"
      ],
      "text/plain": [
       "   count\n",
       "0  41127"
      ]
     },
     "execution_count": 12,
     "metadata": {},
     "output_type": "execute_result"
    }
   ],
   "source": [
    "# Discharge summaries\n",
    "query = \\\n",
    "\"\"\"\n",
    "select count(distinct(subject_id))\n",
    "from noteevents\n",
    "where category like 'Discharge summary%'; \n",
    "\"\"\"\n",
    "data = pd.read_sql_query(query, con)\n",
    "data"
   ]
  },
  {
   "cell_type": "code",
   "execution_count": 13,
   "metadata": {},
   "outputs": [
    {
     "data": {
      "text/html": [
       "<div>\n",
       "<style scoped>\n",
       "    .dataframe tbody tr th:only-of-type {\n",
       "        vertical-align: middle;\n",
       "    }\n",
       "\n",
       "    .dataframe tbody tr th {\n",
       "        vertical-align: top;\n",
       "    }\n",
       "\n",
       "    .dataframe thead th {\n",
       "        text-align: right;\n",
       "    }\n",
       "</style>\n",
       "<table border=\"1\" class=\"dataframe\">\n",
       "  <thead>\n",
       "    <tr style=\"text-align: right;\">\n",
       "      <th></th>\n",
       "      <th>count</th>\n",
       "    </tr>\n",
       "  </thead>\n",
       "  <tbody>\n",
       "    <tr>\n",
       "      <th>0</th>\n",
       "      <td>36583</td>\n",
       "    </tr>\n",
       "  </tbody>\n",
       "</table>\n",
       "</div>"
      ],
      "text/plain": [
       "   count\n",
       "0  36583"
      ]
     },
     "execution_count": 13,
     "metadata": {},
     "output_type": "execute_result"
    }
   ],
   "source": [
    "# Nursing/Nursing others\n",
    "query = \\\n",
    "\"\"\"\n",
    "select count(distinct(subject_id))\n",
    "from noteevents\n",
    "where category like 'Nursing%'; \n",
    "\"\"\"\n",
    "data = pd.read_sql_query(query, con)\n",
    "data"
   ]
  },
  {
   "cell_type": "code",
   "execution_count": 14,
   "metadata": {},
   "outputs": [
    {
     "data": {
      "text/html": [
       "<div>\n",
       "<style scoped>\n",
       "    .dataframe tbody tr th:only-of-type {\n",
       "        vertical-align: middle;\n",
       "    }\n",
       "\n",
       "    .dataframe tbody tr th {\n",
       "        vertical-align: top;\n",
       "    }\n",
       "\n",
       "    .dataframe thead th {\n",
       "        text-align: right;\n",
       "    }\n",
       "</style>\n",
       "<table border=\"1\" class=\"dataframe\">\n",
       "  <thead>\n",
       "    <tr style=\"text-align: right;\">\n",
       "      <th></th>\n",
       "      <th>count</th>\n",
       "    </tr>\n",
       "  </thead>\n",
       "  <tbody>\n",
       "    <tr>\n",
       "      <th>0</th>\n",
       "      <td>7623</td>\n",
       "    </tr>\n",
       "  </tbody>\n",
       "</table>\n",
       "</div>"
      ],
      "text/plain": [
       "   count\n",
       "0   7623"
      ]
     },
     "execution_count": 14,
     "metadata": {},
     "output_type": "execute_result"
    }
   ],
   "source": [
    "# Physician notes\n",
    "query = \\\n",
    "\"\"\"\n",
    "select count(distinct(subject_id))\n",
    "from noteevents\n",
    "where category like 'Physician%'; \n",
    "\"\"\"\n",
    "data = pd.read_sql_query(query, con)\n",
    "data"
   ]
  },
  {
   "cell_type": "code",
   "execution_count": 15,
   "metadata": {},
   "outputs": [
    {
     "data": {
      "text/html": [
       "<div>\n",
       "<style scoped>\n",
       "    .dataframe tbody tr th:only-of-type {\n",
       "        vertical-align: middle;\n",
       "    }\n",
       "\n",
       "    .dataframe tbody tr th {\n",
       "        vertical-align: top;\n",
       "    }\n",
       "\n",
       "    .dataframe thead th {\n",
       "        text-align: right;\n",
       "    }\n",
       "</style>\n",
       "<table border=\"1\" class=\"dataframe\">\n",
       "  <thead>\n",
       "    <tr style=\"text-align: right;\">\n",
       "      <th></th>\n",
       "      <th>count</th>\n",
       "    </tr>\n",
       "  </thead>\n",
       "  <tbody>\n",
       "    <tr>\n",
       "      <th>0</th>\n",
       "      <td>35366</td>\n",
       "    </tr>\n",
       "  </tbody>\n",
       "</table>\n",
       "</div>"
      ],
      "text/plain": [
       "   count\n",
       "0  35366"
      ]
     },
     "execution_count": 15,
     "metadata": {},
     "output_type": "execute_result"
    }
   ],
   "source": [
    "# ECG reports\n",
    "query = \\\n",
    "\"\"\"\n",
    "select count(distinct(subject_id))\n",
    "from noteevents\n",
    "where category like 'ECG%'; \n",
    "\"\"\"\n",
    "data = pd.read_sql_query(query, con)\n",
    "data"
   ]
  },
  {
   "cell_type": "code",
   "execution_count": 16,
   "metadata": {},
   "outputs": [
    {
     "data": {
      "text/html": [
       "<div>\n",
       "<style scoped>\n",
       "    .dataframe tbody tr th:only-of-type {\n",
       "        vertical-align: middle;\n",
       "    }\n",
       "\n",
       "    .dataframe tbody tr th {\n",
       "        vertical-align: top;\n",
       "    }\n",
       "\n",
       "    .dataframe thead th {\n",
       "        text-align: right;\n",
       "    }\n",
       "</style>\n",
       "<table border=\"1\" class=\"dataframe\">\n",
       "  <thead>\n",
       "    <tr style=\"text-align: right;\">\n",
       "      <th></th>\n",
       "      <th>count</th>\n",
       "    </tr>\n",
       "  </thead>\n",
       "  <tbody>\n",
       "    <tr>\n",
       "      <th>0</th>\n",
       "      <td>22316</td>\n",
       "    </tr>\n",
       "  </tbody>\n",
       "</table>\n",
       "</div>"
      ],
      "text/plain": [
       "   count\n",
       "0  22316"
      ]
     },
     "execution_count": 16,
     "metadata": {},
     "output_type": "execute_result"
    }
   ],
   "source": [
    "# Echocardiogram reports\n",
    "query = \\\n",
    "\"\"\"\n",
    "select count(distinct(subject_id))\n",
    "from noteevents\n",
    "where category like 'Echo%'; \n",
    "\"\"\"\n",
    "data = pd.read_sql_query(query, con)\n",
    "data"
   ]
  },
  {
   "cell_type": "code",
   "execution_count": 17,
   "metadata": {},
   "outputs": [
    {
     "data": {
      "text/html": [
       "<div>\n",
       "<style scoped>\n",
       "    .dataframe tbody tr th:only-of-type {\n",
       "        vertical-align: middle;\n",
       "    }\n",
       "\n",
       "    .dataframe tbody tr th {\n",
       "        vertical-align: top;\n",
       "    }\n",
       "\n",
       "    .dataframe thead th {\n",
       "        text-align: right;\n",
       "    }\n",
       "</style>\n",
       "<table border=\"1\" class=\"dataframe\">\n",
       "  <thead>\n",
       "    <tr style=\"text-align: right;\">\n",
       "      <th></th>\n",
       "      <th>count</th>\n",
       "    </tr>\n",
       "  </thead>\n",
       "  <tbody>\n",
       "    <tr>\n",
       "      <th>0</th>\n",
       "      <td>37351</td>\n",
       "    </tr>\n",
       "  </tbody>\n",
       "</table>\n",
       "</div>"
      ],
      "text/plain": [
       "   count\n",
       "0  37351"
      ]
     },
     "execution_count": 17,
     "metadata": {},
     "output_type": "execute_result"
    }
   ],
   "source": [
    "# Radiology reports\n",
    "query = \\\n",
    "\"\"\"\n",
    "select count(distinct(subject_id))\n",
    "from noteevents\n",
    "where category like 'Radiology%'; \n",
    "\"\"\"\n",
    "data = pd.read_sql_query(query, con)\n",
    "data"
   ]
  },
  {
   "cell_type": "markdown",
   "metadata": {},
   "source": [
    "### Now query Diabetes `structured` data"
   ]
  },
  {
   "cell_type": "markdown",
   "metadata": {},
   "source": [
    "<b>Diabetes types in ICD9 code</b>\n",
    "* Diabetes mellitus\n",
    "    * 249 secondary diabetes mellitus (includes the following codes: 249, 249.0, 249.00, 249.01, 249.1, 249.10, 249.11, 249.2, 249.20, 249.21, 249.3, 249.30, 249.31, 249.4, 249.40, 249.41, 249.5, 249.50, 249.51, 249.6, 249.60, 249.61, 249.7, 249.70, 249.71, 249.8, 249.80, 249.81, 249.9, 249.90, 249.91)\n",
    "\n",
    "    * 250 diabetes mellitus (includes the following codes: 250, 250.0, 250.00, 250.01, 250.02, 250.03, 250.1, 250.10, 250.11, 250.12, 250.13, 250.2, 250.20, 250.21, 250.22, 250.23, 250.3, 250.30, 250.31, 250.32, 250.33, 250.4, 250.40, 250.41, 250.42, 250.43, 250.5, 250.50, 250.51, 250.52, 250.53, 250.6, 250.60, 250.61, 250.62, 250.63, 250.7, 250.70, 250.71, 250.72, 250.73, 250.8, 250.80, 250.81, 250.82, 250.83, 250.9, 250.90, 250.91, 250.92, 250.93)\n",
    "\n",
    "* Hemodialysis\n",
    "    - 585.6 end stage renal disease (requiring chronic dialysis)\n",
    "    - 996.1 mechanical complication of other vascular device, implant, and graft\n",
    "    - 996.73 other complications due to renal dialysis device, implant, and graft\n",
    "    - E879.1 kidney dialysis as the cause of abnormal reaction of patient, or of later complication, without mention of misadventure at time of procedure\n",
    "    - V45.1 postsurgical renal dialysis status\n",
    "    - V56.0 encounter for extracorporeal dialysis\n",
    "    - V56.1 fitting and adjustment of extracorporeal dialysis catheter\n",
    "    \n",
    "* Precedure codes\n",
    "    - 38.95 venous catheterization for renal dialysis\n",
    "    - 39.27 arteriovenostomy for renal dialysis\n",
    "    - 39.42 revision of arteriovenous shunt for renal dialysis\n",
    "    - 39.43 removal of arteriovenous shunt for renal dialysis\n",
    "    - 39.95 hemodialysis"
   ]
  },
  {
   "cell_type": "code",
   "execution_count": 18,
   "metadata": {},
   "outputs": [
    {
     "name": "stdout",
     "output_type": "stream",
     "text": [
      "Total 58976  lines of record\n",
      "Totally 46520 unique patients\n"
     ]
    }
   ],
   "source": [
    "# Total number of patients in the Mimic III db is 46520, with 58976 records (someone has multiple records)\n",
    "# Note: connecting to diagnoses_icd table won't impact the query result so it has full record as admissions\n",
    "query = \\\n",
    "\"\"\"\n",
    "select subject_id, hadm_id\n",
    "from admissions; \n",
    "\"\"\"\n",
    "data = pd.read_sql_query(query, con)\n",
    "print('Total', data.shape[0], ' lines of record')\n",
    "print('Totally', data.subject_id.unique().shape[0], 'unique patients')"
   ]
  },
  {
   "cell_type": "code",
   "execution_count": 19,
   "metadata": {},
   "outputs": [
    {
     "data": {
      "text/html": [
       "<div>\n",
       "<style scoped>\n",
       "    .dataframe tbody tr th:only-of-type {\n",
       "        vertical-align: middle;\n",
       "    }\n",
       "\n",
       "    .dataframe tbody tr th {\n",
       "        vertical-align: top;\n",
       "    }\n",
       "\n",
       "    .dataframe thead th {\n",
       "        text-align: right;\n",
       "    }\n",
       "</style>\n",
       "<table border=\"1\" class=\"dataframe\">\n",
       "  <thead>\n",
       "    <tr style=\"text-align: right;\">\n",
       "      <th></th>\n",
       "      <th>count</th>\n",
       "    </tr>\n",
       "  </thead>\n",
       "  <tbody>\n",
       "    <tr>\n",
       "      <th>0</th>\n",
       "      <td>10403</td>\n",
       "    </tr>\n",
       "  </tbody>\n",
       "</table>\n",
       "</div>"
      ],
      "text/plain": [
       "   count\n",
       "0  10403"
      ]
     },
     "execution_count": 19,
     "metadata": {},
     "output_type": "execute_result"
    }
   ],
   "source": [
    "# Total number of patients who are Diabetes mellitus is 10403\n",
    "# Note: connecting to patients table won't impact the query result so it has full records\n",
    "query = \\\n",
    "\"\"\"\n",
    "select count(distinct(a.subject_id))\n",
    "from diagnoses_icd di, admissions a\n",
    "where di.subject_id = a.subject_id\n",
    "\tand (\n",
    "\t\tdi.ICD9_CODE like '249%'      -- secondary diabetes mellitus\n",
    "\t\tor di.ICD9_CODE like '250%'   -- diabetes mellitus \n",
    "\t\t);\n",
    "\"\"\"\n",
    "data = pd.read_sql_query(query, con)\n",
    "data"
   ]
  },
  {
   "cell_type": "code",
   "execution_count": 20,
   "metadata": {},
   "outputs": [
    {
     "data": {
      "text/html": [
       "<div>\n",
       "<style scoped>\n",
       "    .dataframe tbody tr th:only-of-type {\n",
       "        vertical-align: middle;\n",
       "    }\n",
       "\n",
       "    .dataframe tbody tr th {\n",
       "        vertical-align: top;\n",
       "    }\n",
       "\n",
       "    .dataframe thead th {\n",
       "        text-align: right;\n",
       "    }\n",
       "</style>\n",
       "<table border=\"1\" class=\"dataframe\">\n",
       "  <thead>\n",
       "    <tr style=\"text-align: right;\">\n",
       "      <th></th>\n",
       "      <th>count</th>\n",
       "    </tr>\n",
       "  </thead>\n",
       "  <tbody>\n",
       "    <tr>\n",
       "      <th>0</th>\n",
       "      <td>10397</td>\n",
       "    </tr>\n",
       "  </tbody>\n",
       "</table>\n",
       "</div>"
      ],
      "text/plain": [
       "   count\n",
       "0  10397"
      ]
     },
     "execution_count": 20,
     "metadata": {},
     "output_type": "execute_result"
    }
   ],
   "source": [
    "# Total number of patients who are Diabetes mellitus and older than 18 is 10397\n",
    "query = \\\n",
    "\"\"\"\n",
    "select count(distinct(a.subject_id))\n",
    "from diagnoses_icd di, admissions a, patients p\n",
    "where di.subject_id = a.subject_id and a.subject_id = p.subject_id\n",
    "\tand (\n",
    "\t\tdi.ICD9_CODE like '249%'      -- secondary diabetes mellitus\n",
    "\t\tor di.ICD9_CODE like '250%'   -- diabetes mellitus \n",
    "\t\t)\n",
    "\tand (\n",
    "\t\t(cast(a.ADMITTIME as date) - cast(p.DOB as date))/365.242 >= 18\n",
    "\t\t);\n",
    "\"\"\"\n",
    "data = pd.read_sql_query(query, con)\n",
    "data"
   ]
  },
  {
   "cell_type": "code",
   "execution_count": 21,
   "metadata": {},
   "outputs": [
    {
     "data": {
      "text/html": [
       "<div>\n",
       "<style scoped>\n",
       "    .dataframe tbody tr th:only-of-type {\n",
       "        vertical-align: middle;\n",
       "    }\n",
       "\n",
       "    .dataframe tbody tr th {\n",
       "        vertical-align: top;\n",
       "    }\n",
       "\n",
       "    .dataframe thead th {\n",
       "        text-align: right;\n",
       "    }\n",
       "</style>\n",
       "<table border=\"1\" class=\"dataframe\">\n",
       "  <thead>\n",
       "    <tr style=\"text-align: right;\">\n",
       "      <th></th>\n",
       "      <th>count</th>\n",
       "    </tr>\n",
       "  </thead>\n",
       "  <tbody>\n",
       "    <tr>\n",
       "      <th>0</th>\n",
       "      <td>9460</td>\n",
       "    </tr>\n",
       "  </tbody>\n",
       "</table>\n",
       "</div>"
      ],
      "text/plain": [
       "   count\n",
       "0   9460"
      ]
     },
     "execution_count": 21,
     "metadata": {},
     "output_type": "execute_result"
    }
   ],
   "source": [
    "# Total number of patients who are Diabetes mellitus, older than 18, and also received procedures is 9460\n",
    "query = \\\n",
    "\"\"\"\n",
    "select count(distinct(a.subject_id))\n",
    "from diagnoses_icd di, admissions a, patients p, procedures_icd pi\n",
    "where di.subject_id = a.subject_id \n",
    "    and a.subject_id = p.subject_id   -- we have patient here for p.DOB information\n",
    "    and pi.subject_id = a.subject_id\n",
    "\tand (\n",
    "\t\tdi.ICD9_CODE like '249%'      -- secondary diabetes mellitus\n",
    "\t\tor di.ICD9_CODE like '250%'   -- diabetes mellitus \n",
    "\t\t)\n",
    "\tand (\n",
    "\t\t(cast(a.ADMITTIME as date) - cast(p.DOB as date))/365.242 >= 18\n",
    "\t\t);\n",
    "\"\"\"\n",
    "data = pd.read_sql_query(query, con)\n",
    "data"
   ]
  },
  {
   "cell_type": "code",
   "execution_count": 22,
   "metadata": {},
   "outputs": [
    {
     "data": {
      "text/html": [
       "<div>\n",
       "<style scoped>\n",
       "    .dataframe tbody tr th:only-of-type {\n",
       "        vertical-align: middle;\n",
       "    }\n",
       "\n",
       "    .dataframe tbody tr th {\n",
       "        vertical-align: top;\n",
       "    }\n",
       "\n",
       "    .dataframe thead th {\n",
       "        text-align: right;\n",
       "    }\n",
       "</style>\n",
       "<table border=\"1\" class=\"dataframe\">\n",
       "  <thead>\n",
       "    <tr style=\"text-align: right;\">\n",
       "      <th></th>\n",
       "      <th>count</th>\n",
       "    </tr>\n",
       "  </thead>\n",
       "  <tbody>\n",
       "    <tr>\n",
       "      <th>0</th>\n",
       "      <td>1316</td>\n",
       "    </tr>\n",
       "  </tbody>\n",
       "</table>\n",
       "</div>"
      ],
      "text/plain": [
       "   count\n",
       "0   1316"
      ]
     },
     "execution_count": 22,
     "metadata": {},
     "output_type": "execute_result"
    }
   ],
   "source": [
    "# Compared to all patients who received procdures as Hemodialysis is 1316\n",
    "query = \\\n",
    "\"\"\"\n",
    "select count(distinct(subject_id))\n",
    "from diagnoses_icd\n",
    "where ICD9_CODE in ('5856','9961','99673','E8791','V451','V560','V561');\n",
    "\"\"\"\n",
    "data = pd.read_sql_query(query, con)\n",
    "data"
   ]
  },
  {
   "cell_type": "code",
   "execution_count": 25,
   "metadata": {},
   "outputs": [
    {
     "name": "stdout",
     "output_type": "stream",
     "text": [
      "There are  718 patients with diabetes mellitus, adults and received Hemodialysis\n"
     ]
    }
   ],
   "source": [
    "# Patients who are Diabetes mellitus, older than 18, and received procedures as Hemodialysis is 718\n",
    "# Note: diagnoses_icd also include Hemodialysis ICD9 code\n",
    "# We want patients who have both Diabetes mellitus amd Hemodialysis, e.g. di.ICD9_CODE of one patient have both '249x' and '5856'\n",
    "query = \\\n",
    "\"\"\"\n",
    "with diab as (\n",
    "\tselect distinct(a.subject_id) \t\t\t-- second diabtes adults who under procedures is 9460\n",
    "\tfrom diagnoses_icd di, admissions a, patients p, procedures_icd pi\n",
    "\twhere di.subject_id = a.subject_id \n",
    "\t\tand a.subject_id = p.subject_id\t\t-- we have patient here for p.DOB information\n",
    "\t\tand pi.subject_id = a.subject_id\n",
    "\t\tand (\n",
    "\t\t\tdi.ICD9_CODE like '249%'      \t-- secondary diabetes mellitus\n",
    "\t\t\tor di.ICD9_CODE like '250%'   \t-- diabetes mellitus \n",
    "\t\t\t)\n",
    "\t\tand ((cast(a.ADMITTIME as date) - cast(p.DOB as date))/365.242 >= 18)  -- adults\n",
    "\t\t) \n",
    "select distinct(di.subject_id)  \t\t-- second diabetes adults under hemodialysis procedures is 718\n",
    "from diagnoses_icd di, diab\n",
    "where di.subject_id = diab.subject_id\n",
    "\tand di.ICD9_CODE in ('5856','9961','99673','E8791','V451','V560','V561');  -- Hemodialysis\n",
    "\"\"\"\n",
    "data = pd.read_sql_query(query, con)\n",
    "print('There are ', len(data), 'patients with diabetes mellitus, adults and received Hemodialysis')"
   ]
  },
  {
   "cell_type": "markdown",
   "metadata": {},
   "source": [
    "Remember to close the thread after all queries"
   ]
  },
  {
   "cell_type": "code",
   "execution_count": 8,
   "metadata": {},
   "outputs": [
    {
     "name": "stdout",
     "output_type": "stream",
     "text": [
      "cursor closed ...\n",
      "cursor deleted from instance ...\n",
      "connection closed\n"
     ]
    }
   ],
   "source": [
    "cur.close()\n",
    "print('cursor still open ...' if not cur.closed else 'cursor closed ...')\n",
    "del cur\n",
    "print('cursor deleted from instance ...')\n",
    "con.close()\n",
    "print('connection still open ...' if not con.closed else 'connection closed')"
   ]
  }
 ],
 "metadata": {
  "kernelspec": {
   "display_name": "Python 3",
   "language": "python",
   "name": "python3"
  },
  "language_info": {
   "codemirror_mode": {
    "name": "ipython",
    "version": 3
   },
   "file_extension": ".py",
   "mimetype": "text/x-python",
   "name": "python",
   "nbconvert_exporter": "python",
   "pygments_lexer": "ipython3",
   "version": "3.6.6"
  },
  "toc": {
   "base_numbering": 1,
   "nav_menu": {},
   "number_sections": true,
   "sideBar": true,
   "skip_h1_title": false,
   "title_cell": "Table of Contents",
   "title_sidebar": "Contents",
   "toc_cell": false,
   "toc_position": {},
   "toc_section_display": true,
   "toc_window_display": false
  }
 },
 "nbformat": 4,
 "nbformat_minor": 2
}
